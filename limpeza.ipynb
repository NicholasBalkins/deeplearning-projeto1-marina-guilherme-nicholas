{
 "cells": [
  {
   "cell_type": "code",
   "execution_count": 2,
   "id": "c13fa655",
   "metadata": {},
   "outputs": [],
   "source": [
    "import numpy as np\n",
    "import pandas as pd\n",
    "import matplotlib.pyplot as plt\n",
    "import seaborn as sns"
   ]
  },
  {
   "cell_type": "code",
   "execution_count": 3,
   "id": "3a3ae9da",
   "metadata": {},
   "outputs": [
    {
     "name": "stdout",
     "output_type": "stream",
     "text": [
      "   age workclass  fnlwgt     education  education.num marital.status  \\\n",
      "0   90         ?   77053       HS-grad              9        Widowed   \n",
      "1   82   Private  132870       HS-grad              9        Widowed   \n",
      "2   66         ?  186061  Some-college             10        Widowed   \n",
      "3   54   Private  140359       7th-8th              4       Divorced   \n",
      "4   41   Private  264663  Some-college             10      Separated   \n",
      "\n",
      "          occupation   relationship   race     sex  capital.gain  \\\n",
      "0                  ?  Not-in-family  White  Female             0   \n",
      "1    Exec-managerial  Not-in-family  White  Female             0   \n",
      "2                  ?      Unmarried  Black  Female             0   \n",
      "3  Machine-op-inspct      Unmarried  White  Female             0   \n",
      "4     Prof-specialty      Own-child  White  Female             0   \n",
      "\n",
      "   capital.loss  hours.per.week native.country income  \n",
      "0          4356              40  United-States  <=50K  \n",
      "1          4356              18  United-States  <=50K  \n",
      "2          4356              40  United-States  <=50K  \n",
      "3          3900              40  United-States  <=50K  \n",
      "4          3900              40  United-States  <=50K  \n"
     ]
    }
   ],
   "source": [
    "# ler o arquivo CSV\n",
    "df = pd.read_csv(f\"dataset/adult.csv\")\n",
    "print(df.head())"
   ]
  },
  {
   "cell_type": "markdown",
   "id": "bbd0f854",
   "metadata": {},
   "source": [
    "DATA CLEANING"
   ]
  },
  {
   "cell_type": "code",
   "execution_count": 4,
   "id": "249837d8",
   "metadata": {},
   "outputs": [
    {
     "name": "stdout",
     "output_type": "stream",
     "text": [
      "age                  0\n",
      "workclass         1836\n",
      "fnlwgt               0\n",
      "education            0\n",
      "education.num        0\n",
      "marital.status       0\n",
      "occupation        1843\n",
      "relationship         0\n",
      "race                 0\n",
      "sex                  0\n",
      "capital.gain         0\n",
      "capital.loss         0\n",
      "hours.per.week       0\n",
      "native.country     583\n",
      "income               0\n",
      "dtype: int64\n"
     ]
    }
   ],
   "source": [
    "# limpar os dados\n",
    "df = df.replace(\"?\", np.nan)\n",
    "# contar valores nulos em cada coluna\n",
    "print(df.isnull().sum())"
   ]
  },
  {
   "cell_type": "code",
   "execution_count": 5,
   "id": "6f1e4748",
   "metadata": {},
   "outputs": [
    {
     "name": "stdout",
     "output_type": "stream",
     "text": [
      "Moda de workclass: Private\n",
      "Moda de occupation: Prof-specialty\n",
      "Moda de native.country: United-States\n"
     ]
    }
   ],
   "source": [
    "# Colunas com missing\n",
    "cols_missing = [\"workclass\", \"occupation\", \"native.country\"]\n",
    "\n",
    "# Mostrar a moda de cada uma\n",
    "for col in cols_missing:\n",
    "    print(f\"Moda de {col}: {df[col].mode()[0]}\")"
   ]
  },
  {
   "cell_type": "code",
   "execution_count": 6,
   "id": "55ea35b6",
   "metadata": {},
   "outputs": [
    {
     "name": "stdout",
     "output_type": "stream",
     "text": [
      "\n",
      "Valores nulos depois do preenchimento:\n",
      "workclass         0\n",
      "occupation        0\n",
      "native.country    0\n",
      "dtype: int64\n"
     ]
    }
   ],
   "source": [
    "# Preencher NaN com a moda\n",
    "for col in cols_missing:\n",
    "    df[col] = df[col].fillna(df[col].mode()[0])\n",
    "\n",
    "print(\"\\nValores nulos depois do preenchimento:\")\n",
    "print(df[cols_missing].isnull().sum())"
   ]
  },
  {
   "cell_type": "code",
   "execution_count": 7,
   "id": "63fd5ac8",
   "metadata": {},
   "outputs": [
    {
     "name": "stdout",
     "output_type": "stream",
     "text": [
      "\n",
      "Distribuição em workclass:\n",
      "workclass\n",
      "Private             24532\n",
      "Self-emp-not-inc     2541\n",
      "Local-gov            2093\n",
      "State-gov            1298\n",
      "Self-emp-inc         1116\n",
      "Name: count, dtype: int64\n",
      "\n",
      "Distribuição em occupation:\n",
      "occupation\n",
      "Prof-specialty     5983\n",
      "Craft-repair       4099\n",
      "Exec-managerial    4066\n",
      "Adm-clerical       3770\n",
      "Sales              3650\n",
      "Name: count, dtype: int64\n",
      "\n",
      "Distribuição em native.country:\n",
      "native.country\n",
      "United-States    29753\n",
      "Mexico             643\n",
      "Philippines        198\n",
      "Germany            137\n",
      "Canada             121\n",
      "Name: count, dtype: int64\n"
     ]
    }
   ],
   "source": [
    "# Mostrar distribuição (top 5 categorias) após preenchimento\n",
    "for col in cols_missing:\n",
    "    print(f\"\\nDistribuição em {col}:\")\n",
    "    print(df[col].value_counts().head())"
   ]
  },
  {
   "cell_type": "code",
   "execution_count": 8,
   "id": "3d5a38ed",
   "metadata": {},
   "outputs": [],
   "source": [
    "# salvar o dataset limpo para csv\n",
    "df.to_csv(\"dataset/adult_clean.csv\", index=False)"
   ]
  },
  {
   "cell_type": "markdown",
   "id": "4811bbef",
   "metadata": {},
   "source": [
    "NORMALIZATIION"
   ]
  },
  {
   "cell_type": "markdown",
   "id": "0b754656",
   "metadata": {},
   "source": [
    "### 1. **Z-Score (StandardScaler)**\n",
    "\n",
    "$$\n",
    "x' = \\frac{x - \\mu}{\\sigma}\n",
    "$$\n",
    "\n",
    "* Resultado: média = 0, desvio padrão = 1.\n",
    "* Bom quando os dados têm distribuição “espalhada” (como `age`, `hours.per.week`).\n",
    "* Problema: **sensível a outliers** (ex.: `capital.gain` que tem valores gigantes).\n",
    "\n",
    "---\n",
    "\n",
    "### 2. **Min-Max (0–1)**\n",
    "\n",
    "$$\n",
    "x' = \\frac{x - x_{min}}{x_{max} - x_{min}}\n",
    "$$\n",
    "\n",
    "* Resultado: todos os valores ficam entre 0 e 1.\n",
    "* Preserva proporções.\n",
    "* Problema: se tiver um outlier extremo, todos os outros valores ficam espremidos.\n",
    "\n",
    "---\n",
    "\n",
    "## 🔹 No Adult Income:\n",
    "\n",
    "* **age**: entre \\~17 e 90 → ambos funcionam.\n",
    "* **hours.per.week**: entre 1 e 99 → ambos funcionam.\n",
    "* **education.num**: entre 1 e 16 → ambos funcionam.\n",
    "* **capital.gain / capital.loss**: muito desbalanceados (a maioria é 0, poucos muito altos) → aqui **Z-score ajuda mais**.\n",
    "* **fnlwgt**: escala gigante (20k – 1M) e pouca relevância → você pode até **remover** essa feature.\n",
    "\n",
    "ESCOLHIDO: **Z-Score (StandardScaler)** para todas as numéricas.\n",
    "É o padrão para redes neurais, deixa tudo em média 0 e desvio 1, e facilita a convergência.\n"
   ]
  }
 ],
 "metadata": {
  "kernelspec": {
   "display_name": "env",
   "language": "python",
   "name": "python3"
  },
  "language_info": {
   "codemirror_mode": {
    "name": "ipython",
    "version": 3
   },
   "file_extension": ".py",
   "mimetype": "text/x-python",
   "name": "python",
   "nbconvert_exporter": "python",
   "pygments_lexer": "ipython3",
   "version": "3.12.6"
  }
 },
 "nbformat": 4,
 "nbformat_minor": 5
}
